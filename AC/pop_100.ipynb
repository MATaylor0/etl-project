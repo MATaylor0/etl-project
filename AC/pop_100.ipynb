{
 "metadata": {
  "language_info": {
   "codemirror_mode": {
    "name": "ipython",
    "version": 3
   },
   "file_extension": ".py",
   "mimetype": "text/x-python",
   "name": "python",
   "nbconvert_exporter": "python",
   "pygments_lexer": "ipython3",
   "version": "3.6.10-final"
  },
  "orig_nbformat": 2,
  "kernelspec": {
   "name": "python361064bitpythondatacondaa82b748169204565ab752045be2255ee",
   "display_name": "Python 3.6.10 64-bit ('PythonData': conda)"
  }
 },
 "nbformat": 4,
 "nbformat_minor": 2,
 "cells": [
  {
   "cell_type": "code",
   "execution_count": 47,
   "metadata": {},
   "outputs": [],
   "source": [
    "#Dependencies\n",
    "import pandas as pd\n",
    "import numpy as np\n",
    "import matplotlib.pyplot as plt\n",
    "from unicodedata import normalize\n",
    "import requests as req\n",
    "from config import api_key\n",
    "from pprint import pprint\n",
    "import requests\n",
    "import json"
   ]
  },
  {
   "cell_type": "code",
   "execution_count": 48,
   "metadata": {},
   "outputs": [],
   "source": [
    "#Create list of top 250 IMBD movies to loop through \n",
    "table_MN = pd.read_html('https://www.imdb.com/chart/moviemeter/')\n",
    "pop_100_list=table_MN[0][\"Rank & Title\"]\n",
    "pop_100_list=list(pop_100_list.apply(lambda x: x.split(\"(\")[0]))"
   ]
  },
  {
   "cell_type": "code",
   "execution_count": 49,
   "metadata": {},
   "outputs": [],
   "source": [
    "#Create base\n",
    "base_url = \"http://www.omdbapi.com/?t=\"\n",
    "api_key = \"&apikey=\" + api_key\n",
    "\n",
    "#Set up lists to hold response data\n",
    "Title=[]\n",
    "Year=[]\n",
    "Rated=[]\n",
    "Released=[]\n",
    "Runtime=[]\n",
    "Genre=[]\n",
    "Director=[]\n",
    "Writer=[]\n",
    "Actors=[]\n",
    "Plot=[]\n",
    "Language=[]\n",
    "Country=[]\n",
    "Poster=[]\n",
    "Metascore=[]\n",
    "imdbID=[]\n",
    "imdbRating=[]\n",
    "imdbVotes=[]\n",
    "Type=[]\n",
    "Production=[]"
   ]
  },
  {
   "cell_type": "code",
   "execution_count": 50,
   "metadata": {},
   "outputs": [],
   "source": [
    "#Loop through movies and add info to lists \n",
    "for movie in pop_100_list:\n",
    "    target_url = base_url + movie + api_key\n",
    "    response = requests.get(target_url).json()\n",
    "    \n",
    "    Title.append(response.get('Title'))\n",
    "    Year.append(response.get('Year'))\n",
    "    Rated.append(response.get('Rated'))\n",
    "    Released.append(response.get('Released'))\n",
    "    Runtime.append(response.get('Runtime'))\n",
    "    Genre.append(response.get('Genre'))\n",
    "    Director.append(response.get('Director'))\n",
    "    Writer.append(response.get('Writer'))\n",
    "    Actors.append(response.get('Actors'))\n",
    "    Plot.append(response.get('Plot'))\n",
    "    Language.append(response.get('Language'))\n",
    "    Country.append(response.get('Country'))\n",
    "    Poster.append(response.get('Poster'))\n",
    "    Metascore.append(response.get('Metascore'))\n",
    "    imdbID.append(response.get('imdbID'))\n",
    "    imdbRating.append(response.get('imdbRating'))\n",
    "    imdbVotes.append(response.get('imdbVotes'))\n",
    "    Type.append(response.get('Type'))\n",
    "    Production.append(response.get('Production'))"
   ]
  },
  {
   "cell_type": "code",
   "execution_count": 54,
   "metadata": {},
   "outputs": [],
   "source": [
    "pop_100_df = pd.DataFrame({\n",
    "    \"Title\":Title,\n",
    "    \"Year\":Year,\n",
    "    \"Rated\":Rated,\n",
    "    \"Released\":Released,\n",
    "    \"Runtime\":Runtime,\n",
    "    \"Director\":Director,\n",
    "    \"Plot\":Plot,\n",
    "    \"Poster\":Poster,\n",
    "    \"Metascore\":Metascore,\n",
    "    \"imdbID\":imdbID,\n",
    "    \"imdbRating\":imdbRating,\n",
    "    \"imdbVotes\":imdbVotes,\n",
    "    \"Type\":Type\n",
    "})"
   ]
  },
  {
   "cell_type": "code",
   "execution_count": 55,
   "metadata": {},
   "outputs": [
    {
     "output_type": "execute_result",
     "data": {
      "text/plain": [
       "                         Title  Year  Rated     Released  Runtime  \\\n",
       "0                     Holidate  2020  TV-MA  28 Oct 2020  103 min   \n",
       "1   Borat Subsequent Moviefilm  2020      R  23 Oct 2020   95 min   \n",
       "2                  Hocus Pocus  1993     PG  16 Jul 1993   96 min   \n",
       "3                  The Witches  1990     PG  24 Aug 1990   91 min   \n",
       "4                    His House  2020  TV-14  30 Oct 2020   93 min   \n",
       "..                         ...   ...    ...          ...      ...   \n",
       "95                     Get Out  2017      R  24 Feb 2017  104 min   \n",
       "96                        Dune  1984  PG-13  14 Dec 1984  137 min   \n",
       "97           The Suicide Squad  2021    N/A  06 Aug 2021      N/A   \n",
       "98    The Shawshank Redemption  1994      R  14 Oct 1994  142 min   \n",
       "99   A Nightmare on Elm Street  1984  TV-14  16 Nov 1984   91 min   \n",
       "\n",
       "          Director                                               Plot  \\\n",
       "0   John Whitesell  Fed up with being single on holidays, two stra...   \n",
       "1    Jason Woliner  Follow-up film to the 2006 comedy centering on...   \n",
       "2     Kenny Ortega  A curious youngster moves to Salem, where he s...   \n",
       "3     Nicolas Roeg  A young boy stumbles onto a witch convention a...   \n",
       "4      Remi Weekes  A refugee couple makes a harrowing escape from...   \n",
       "..             ...                                                ...   \n",
       "95    Jordan Peele  A young African-American visits his white girl...   \n",
       "96     David Lynch  A Duke's son leads desert warriors against the...   \n",
       "97      James Gunn                                   Plot is unknown.   \n",
       "98  Frank Darabont  Two imprisoned men bond over a number of years...   \n",
       "99      Wes Craven  The monstrous spirit of a slain child murderer...   \n",
       "\n",
       "                                               Poster Metascore      imdbID  \\\n",
       "0   https://m.media-amazon.com/images/M/MV5BYWVmYT...        44   tt9866072   \n",
       "1   https://m.media-amazon.com/images/M/MV5BZmY2Zm...        68  tt13143964   \n",
       "2   https://m.media-amazon.com/images/M/MV5BMWUxNW...       N/A   tt0107120   \n",
       "3   https://m.media-amazon.com/images/M/MV5BMjI1MD...        78   tt0100944   \n",
       "4   https://m.media-amazon.com/images/M/MV5BODY2Nj...        72   tt8508734   \n",
       "..                                                ...       ...         ...   \n",
       "95  https://m.media-amazon.com/images/M/MV5BMjUxMD...        85   tt5052448   \n",
       "96  https://m.media-amazon.com/images/M/MV5BYTAzYz...        40   tt0087182   \n",
       "97  https://m.media-amazon.com/images/M/MV5BMzEzNz...       N/A   tt6334354   \n",
       "98  https://m.media-amazon.com/images/M/MV5BMDFkYT...        80   tt0111161   \n",
       "99  https://m.media-amazon.com/images/M/MV5BNzFjZm...        76   tt0087800   \n",
       "\n",
       "   imdbRating  imdbVotes   Type  \n",
       "0         6.1     12,141  movie  \n",
       "1         6.8     75,370  movie  \n",
       "2         6.9    101,320  movie  \n",
       "3         6.8     38,250  movie  \n",
       "4         6.3      2,623  movie  \n",
       "..        ...        ...    ...  \n",
       "95        7.7    477,064  movie  \n",
       "96        6.5    124,531  movie  \n",
       "97        N/A        N/A  movie  \n",
       "98        9.3  2,296,430  movie  \n",
       "99        7.5    201,589  movie  \n",
       "\n",
       "[97 rows x 13 columns]"
      ],
      "text/html": "<div>\n<style scoped>\n    .dataframe tbody tr th:only-of-type {\n        vertical-align: middle;\n    }\n\n    .dataframe tbody tr th {\n        vertical-align: top;\n    }\n\n    .dataframe thead th {\n        text-align: right;\n    }\n</style>\n<table border=\"1\" class=\"dataframe\">\n  <thead>\n    <tr style=\"text-align: right;\">\n      <th></th>\n      <th>Title</th>\n      <th>Year</th>\n      <th>Rated</th>\n      <th>Released</th>\n      <th>Runtime</th>\n      <th>Director</th>\n      <th>Plot</th>\n      <th>Poster</th>\n      <th>Metascore</th>\n      <th>imdbID</th>\n      <th>imdbRating</th>\n      <th>imdbVotes</th>\n      <th>Type</th>\n    </tr>\n  </thead>\n  <tbody>\n    <tr>\n      <th>0</th>\n      <td>Holidate</td>\n      <td>2020</td>\n      <td>TV-MA</td>\n      <td>28 Oct 2020</td>\n      <td>103 min</td>\n      <td>John Whitesell</td>\n      <td>Fed up with being single on holidays, two stra...</td>\n      <td>https://m.media-amazon.com/images/M/MV5BYWVmYT...</td>\n      <td>44</td>\n      <td>tt9866072</td>\n      <td>6.1</td>\n      <td>12,141</td>\n      <td>movie</td>\n    </tr>\n    <tr>\n      <th>1</th>\n      <td>Borat Subsequent Moviefilm</td>\n      <td>2020</td>\n      <td>R</td>\n      <td>23 Oct 2020</td>\n      <td>95 min</td>\n      <td>Jason Woliner</td>\n      <td>Follow-up film to the 2006 comedy centering on...</td>\n      <td>https://m.media-amazon.com/images/M/MV5BZmY2Zm...</td>\n      <td>68</td>\n      <td>tt13143964</td>\n      <td>6.8</td>\n      <td>75,370</td>\n      <td>movie</td>\n    </tr>\n    <tr>\n      <th>2</th>\n      <td>Hocus Pocus</td>\n      <td>1993</td>\n      <td>PG</td>\n      <td>16 Jul 1993</td>\n      <td>96 min</td>\n      <td>Kenny Ortega</td>\n      <td>A curious youngster moves to Salem, where he s...</td>\n      <td>https://m.media-amazon.com/images/M/MV5BMWUxNW...</td>\n      <td>N/A</td>\n      <td>tt0107120</td>\n      <td>6.9</td>\n      <td>101,320</td>\n      <td>movie</td>\n    </tr>\n    <tr>\n      <th>3</th>\n      <td>The Witches</td>\n      <td>1990</td>\n      <td>PG</td>\n      <td>24 Aug 1990</td>\n      <td>91 min</td>\n      <td>Nicolas Roeg</td>\n      <td>A young boy stumbles onto a witch convention a...</td>\n      <td>https://m.media-amazon.com/images/M/MV5BMjI1MD...</td>\n      <td>78</td>\n      <td>tt0100944</td>\n      <td>6.8</td>\n      <td>38,250</td>\n      <td>movie</td>\n    </tr>\n    <tr>\n      <th>4</th>\n      <td>His House</td>\n      <td>2020</td>\n      <td>TV-14</td>\n      <td>30 Oct 2020</td>\n      <td>93 min</td>\n      <td>Remi Weekes</td>\n      <td>A refugee couple makes a harrowing escape from...</td>\n      <td>https://m.media-amazon.com/images/M/MV5BODY2Nj...</td>\n      <td>72</td>\n      <td>tt8508734</td>\n      <td>6.3</td>\n      <td>2,623</td>\n      <td>movie</td>\n    </tr>\n    <tr>\n      <th>...</th>\n      <td>...</td>\n      <td>...</td>\n      <td>...</td>\n      <td>...</td>\n      <td>...</td>\n      <td>...</td>\n      <td>...</td>\n      <td>...</td>\n      <td>...</td>\n      <td>...</td>\n      <td>...</td>\n      <td>...</td>\n      <td>...</td>\n    </tr>\n    <tr>\n      <th>95</th>\n      <td>Get Out</td>\n      <td>2017</td>\n      <td>R</td>\n      <td>24 Feb 2017</td>\n      <td>104 min</td>\n      <td>Jordan Peele</td>\n      <td>A young African-American visits his white girl...</td>\n      <td>https://m.media-amazon.com/images/M/MV5BMjUxMD...</td>\n      <td>85</td>\n      <td>tt5052448</td>\n      <td>7.7</td>\n      <td>477,064</td>\n      <td>movie</td>\n    </tr>\n    <tr>\n      <th>96</th>\n      <td>Dune</td>\n      <td>1984</td>\n      <td>PG-13</td>\n      <td>14 Dec 1984</td>\n      <td>137 min</td>\n      <td>David Lynch</td>\n      <td>A Duke's son leads desert warriors against the...</td>\n      <td>https://m.media-amazon.com/images/M/MV5BYTAzYz...</td>\n      <td>40</td>\n      <td>tt0087182</td>\n      <td>6.5</td>\n      <td>124,531</td>\n      <td>movie</td>\n    </tr>\n    <tr>\n      <th>97</th>\n      <td>The Suicide Squad</td>\n      <td>2021</td>\n      <td>N/A</td>\n      <td>06 Aug 2021</td>\n      <td>N/A</td>\n      <td>James Gunn</td>\n      <td>Plot is unknown.</td>\n      <td>https://m.media-amazon.com/images/M/MV5BMzEzNz...</td>\n      <td>N/A</td>\n      <td>tt6334354</td>\n      <td>N/A</td>\n      <td>N/A</td>\n      <td>movie</td>\n    </tr>\n    <tr>\n      <th>98</th>\n      <td>The Shawshank Redemption</td>\n      <td>1994</td>\n      <td>R</td>\n      <td>14 Oct 1994</td>\n      <td>142 min</td>\n      <td>Frank Darabont</td>\n      <td>Two imprisoned men bond over a number of years...</td>\n      <td>https://m.media-amazon.com/images/M/MV5BMDFkYT...</td>\n      <td>80</td>\n      <td>tt0111161</td>\n      <td>9.3</td>\n      <td>2,296,430</td>\n      <td>movie</td>\n    </tr>\n    <tr>\n      <th>99</th>\n      <td>A Nightmare on Elm Street</td>\n      <td>1984</td>\n      <td>TV-14</td>\n      <td>16 Nov 1984</td>\n      <td>91 min</td>\n      <td>Wes Craven</td>\n      <td>The monstrous spirit of a slain child murderer...</td>\n      <td>https://m.media-amazon.com/images/M/MV5BNzFjZm...</td>\n      <td>76</td>\n      <td>tt0087800</td>\n      <td>7.5</td>\n      <td>201,589</td>\n      <td>movie</td>\n    </tr>\n  </tbody>\n</table>\n<p>97 rows × 13 columns</p>\n</div>"
     },
     "metadata": {},
     "execution_count": 55
    }
   ],
   "source": [
    "#Check for null value rows\n",
    "pop_100_df[pop_100_df.isnull().any(axis=1)]\n",
    "\n",
    "#Drop rows\n",
    "pop_100_df.dropna(how='all')"
   ]
  },
  {
   "cell_type": "code",
   "execution_count": 56,
   "metadata": {},
   "outputs": [],
   "source": [
    "#Export to csv\n",
    "pop_100_df.to_csv(\"Top_100_Popular_Movies.csv\", index=False, header=True)"
   ]
  },
  {
   "cell_type": "code",
   "execution_count": null,
   "metadata": {},
   "outputs": [],
   "source": []
  }
 ]
}