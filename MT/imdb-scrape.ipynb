{
 "cells": [
  {
   "cell_type": "code",
   "execution_count": 1,
   "metadata": {},
   "outputs": [],
   "source": [
    "# Importing dependencies\n",
    "from splinter import Browser\n",
    "from splinter.exceptions import ElementDoesNotExist\n",
    "from bs4 import BeautifulSoup as bs\n",
    "import pandas as pd\n",
    "import time"
   ]
  },
  {
   "cell_type": "code",
   "execution_count": 2,
   "metadata": {},
   "outputs": [],
   "source": [
    "# Defining a function which will take the results of the web scrape and store as a dataframe\n",
    "def create_df(titles, ratings):\n",
    "    df = pd.DataFrame({\"Title\": titles, \"Rating\": ratings})\n",
    "    df.reset_index(inplace = True)\n",
    "    \n",
    "    df[\"index\"] = df[\"index\"].apply(lambda x: x + 1)\n",
    "    df.rename(columns = {\"index\": \"Rank\"}, inplace = True)\n",
    "    \n",
    "    df.set_index(\"Rank\")\n",
    "    \n",
    "    return df"
   ]
  },
  {
   "cell_type": "code",
   "execution_count": 3,
   "metadata": {},
   "outputs": [],
   "source": [
    "# Defining a function which will scrape the page that we are visiting (on IMDB the pages we are interested in have the same HTML structure)\n",
    "def scrape_page():\n",
    "    # Extract the HTML from the website and parse with BeautifulSoup\n",
    "    html = browser.html\n",
    "    soup = bs(html, 'html.parser')\n",
    "    \n",
    "    # Search for the table which contains the information we want to scrape\n",
    "    table = soup.find(\"table\", class_ = \"chart\")\n",
    "\n",
    "    return table"
   ]
  },
  {
   "cell_type": "code",
   "execution_count": 4,
   "metadata": {},
   "outputs": [],
   "source": [
    "# Creating the path to chromedriver and setting up the browser object\n",
    "executable_path = {'executable_path': 'chromedriver'}\n",
    "browser = Browser('chrome', **executable_path, headless=False)"
   ]
  },
  {
   "cell_type": "code",
   "execution_count": 5,
   "metadata": {},
   "outputs": [],
   "source": [
    "# Defining the URL for scraping & visiting the website\n",
    "url = \"https://www.imdb.com/chart/top/\"\n",
    "browser.visit(url)\n",
    "\n",
    "time.sleep(2)"
   ]
  },
  {
   "cell_type": "code",
   "execution_count": 6,
   "metadata": {},
   "outputs": [],
   "source": [
    "# Scraping the page\n",
    "table = scrape_page()"
   ]
  },
  {
   "cell_type": "code",
   "execution_count": 7,
   "metadata": {},
   "outputs": [
    {
     "data": {
      "text/plain": [
       "250"
      ]
     },
     "execution_count": 7,
     "metadata": {},
     "output_type": "execute_result"
    }
   ],
   "source": [
    "# Find the titles within the table\n",
    "titles = table.find_all(\"td\", class_ = \"titleColumn\")\n",
    "\n",
    "# Creating an empty list to hold titles\n",
    "title_list = []\n",
    "\n",
    "# Append each title name to a list\n",
    "for title in titles:\n",
    "    title_list.append(title.find(\"a\").get_text())\n",
    "    \n",
    "# Confirming that all 250 titles were found\n",
    "len(title_list)"
   ]
  },
  {
   "cell_type": "code",
   "execution_count": 8,
   "metadata": {},
   "outputs": [
    {
     "data": {
      "text/plain": [
       "250"
      ]
     },
     "execution_count": 8,
     "metadata": {},
     "output_type": "execute_result"
    }
   ],
   "source": [
    "# Find the ratings within the table\n",
    "ratings = table.find_all(\"td\", class_ = \"ratingColumn\")\n",
    "\n",
    "# Creating an empty list to hold ratings\n",
    "rating_list = []\n",
    "\n",
    "# Append each rating to a list\n",
    "for i in range(0, len(ratings)):\n",
    "    if i % 2 == 0:\n",
    "        rating_list.append(ratings[i].find(\"strong\").get_text())\n",
    "        \n",
    "# Confirming that all 250 titles were found\n",
    "len(rating_list)"
   ]
  },
  {
   "cell_type": "code",
   "execution_count": 9,
   "metadata": {},
   "outputs": [],
   "source": [
    "# Creating the dataframe to store the top movies\n",
    "top_movies_df = create_df(title_list, rating_list)"
   ]
  },
  {
   "cell_type": "code",
   "execution_count": 10,
   "metadata": {},
   "outputs": [
    {
     "name": "stderr",
     "output_type": "stream",
     "text": [
      "C:\\Users\\matt_\\anaconda3\\lib\\site-packages\\splinter\\driver\\webdriver\\__init__.py:498: FutureWarning: browser.find_link_by_text is deprecated. Use browser.links.find_by_text instead.\n",
      "  warnings.warn(\n"
     ]
    }
   ],
   "source": [
    "# Using splinter to click the Most Popular Movies link\n",
    "browser.click_link_by_text(\" Most Popular Movies \")\n",
    "\n",
    "# Waiting for the page to load completely\n",
    "time.sleep(2)"
   ]
  },
  {
   "cell_type": "code",
   "execution_count": 11,
   "metadata": {},
   "outputs": [],
   "source": [
    "# Scraping the page\n",
    "table = scrape_page()"
   ]
  },
  {
   "cell_type": "code",
   "execution_count": 12,
   "metadata": {},
   "outputs": [
    {
     "data": {
      "text/plain": [
       "100"
      ]
     },
     "execution_count": 12,
     "metadata": {},
     "output_type": "execute_result"
    }
   ],
   "source": [
    "# Find the titles within the table\n",
    "titles = table.find_all(\"td\", class_ = \"titleColumn\")\n",
    "\n",
    "# Creating an empty list to hold titles\n",
    "title_list = []\n",
    "\n",
    "# Append each title name to a list\n",
    "for title in titles:\n",
    "    title_list.append(title.find(\"a\").get_text())\n",
    "    \n",
    "# Confirming that all 100 titles were found\n",
    "len(title_list)"
   ]
  },
  {
   "cell_type": "code",
   "execution_count": 13,
   "metadata": {},
   "outputs": [
    {
     "name": "stdout",
     "output_type": "stream",
     "text": [
      "Ratings found: 87\n",
      "Ratings missing: 13\n"
     ]
    }
   ],
   "source": [
    "# Find the ratings within the table\n",
    "ratings = table.find_all(\"td\", class_ = \"ratingColumn\")\n",
    "\n",
    "# Creating an empty list to hold ratings, and the index value of any missing ratings\n",
    "rating_list = []\n",
    "missing_index = []\n",
    "\n",
    "# Append each rating to a list\n",
    "for i in range(0, len(ratings)):\n",
    "    if i % 2 == 0:\n",
    "        try:\n",
    "            rating_list.append(ratings[i].find(\"strong\").get_text())\n",
    "        except:\n",
    "            missing_index.append(i/2)\n",
    "        \n",
    "# Confirming that all 100 titles were found\n",
    "print(f\"Ratings found: {len(rating_list)}\\nRatings missing: {len(missing_index)}\")"
   ]
  },
  {
   "cell_type": "code",
   "execution_count": 14,
   "metadata": {},
   "outputs": [
    {
     "data": {
      "text/plain": [
       "100"
      ]
     },
     "execution_count": 14,
     "metadata": {},
     "output_type": "execute_result"
    }
   ],
   "source": [
    "# Adding blank values to the rating list where the rating could not be found\n",
    "for index in missing_index:\n",
    "    rating_list.insert(int(index), None)\n",
    "\n",
    "# Confirming the list now has 100 values\n",
    "len(rating_list)"
   ]
  },
  {
   "cell_type": "code",
   "execution_count": 15,
   "metadata": {},
   "outputs": [],
   "source": [
    "# Creating the dataframe to store the most popular movies\n",
    "most_popular_df = create_df(title_list, rating_list)"
   ]
  },
  {
   "cell_type": "code",
   "execution_count": 16,
   "metadata": {},
   "outputs": [],
   "source": [
    "# Renaming the columns\n",
    "top_movies_df.rename(columns = {\"Rank\": \"Rating Rank\"}, inplace = True)\n",
    "\n",
    "most_popular_df.rename(columns = {\"Rank\": \"Popularity Rank\"}, inplace = True)"
   ]
  },
  {
   "cell_type": "code",
   "execution_count": 17,
   "metadata": {},
   "outputs": [],
   "source": [
    "# Exporting the dataframes as CSVs\n",
    "top_movies_df.to_csv(\"top_rated_movies.csv\", index = False)\n",
    "most_popular_df.to_csv(\"most_popular_movies.csv\", index = False)"
   ]
  },
  {
   "cell_type": "code",
   "execution_count": 18,
   "metadata": {},
   "outputs": [],
   "source": [
    "# Ending the browser session\n",
    "browser.quit()"
   ]
  },
  {
   "cell_type": "code",
   "execution_count": null,
   "metadata": {},
   "outputs": [],
   "source": []
  }
 ],
 "metadata": {
  "kernelspec": {
   "display_name": "Python 3",
   "language": "python",
   "name": "python3"
  },
  "language_info": {
   "codemirror_mode": {
    "name": "ipython",
    "version": 3
   },
   "file_extension": ".py",
   "mimetype": "text/x-python",
   "name": "python",
   "nbconvert_exporter": "python",
   "pygments_lexer": "ipython3",
   "version": "3.8.3"
  }
 },
 "nbformat": 4,
 "nbformat_minor": 4
}
